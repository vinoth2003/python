{
  "nbformat": 4,
  "nbformat_minor": 0,
  "metadata": {
    "colab": {
      "name": "Untitled20.ipynb",
      "provenance": [],
      "authorship_tag": "ABX9TyN6NhbxSIDXAa+AAk9RcHZs",
      "include_colab_link": true
    },
    "kernelspec": {
      "name": "python3",
      "display_name": "Python 3"
    },
    "language_info": {
      "name": "python"
    }
  },
  "cells": [
    {
      "cell_type": "markdown",
      "metadata": {
        "id": "view-in-github",
        "colab_type": "text"
      },
      "source": [
        "<a href=\"https://colab.research.google.com/github/vinoth2003/python/blob/main/Untitled20.ipynb\" target=\"_parent\"><img src=\"https://colab.research.google.com/assets/colab-badge.svg\" alt=\"Open In Colab\"/></a>"
      ]
    },
    {
      "cell_type": "code",
      "metadata": {
        "colab": {
          "base_uri": "https://localhost:8080/"
        },
        "id": "8JfK6UgeDNkH",
        "outputId": "3b312cca-cf80-483c-eadd-3fefdd23da13"
      },
      "source": [
        "print(\"List of month: January, February, March, April, May, June, July, August, September, October, November, December\")\n",
        "month_name = input(\"Input the name of month: \")\n",
        "\n",
        "if month_name == \"February\":\n",
        "  print(\"No. of days: 28/29 days\")\n",
        "elif month_name in (\"April\", \"June\", \"September\", \"November\"):\n",
        "  print(\"No. of days: 30 days\")\n",
        "elif month_name in (\"January\", \"March\", \"May\", \"July\", \"August\", \"October\", \"December\"):\n",
        "  print(\"No. of days: 31 days\")\n",
        "else:\n",
        "  print(\"Wrong month name\")    "
      ],
      "execution_count": 2,
      "outputs": [
        {
          "output_type": "stream",
          "text": [
            "List of month: January, February, March, April, May, June, July, August, September, October, November, December\n",
            "Input the name of month: February\n",
            "No. of days: 28/29 days\n"
          ],
          "name": "stdout"
        }
      ]
    }
  ]
}