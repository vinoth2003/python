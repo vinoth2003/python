{
  "nbformat": 4,
  "nbformat_minor": 0,
  "metadata": {
    "colab": {
      "name": "Untitled22.ipynb",
      "provenance": [],
      "authorship_tag": "ABX9TyPPpMY+/uCbEmEW2dA6nNDu",
      "include_colab_link": true
    },
    "kernelspec": {
      "name": "python3",
      "display_name": "Python 3"
    },
    "language_info": {
      "name": "python"
    }
  },
  "cells": [
    {
      "cell_type": "markdown",
      "metadata": {
        "id": "view-in-github",
        "colab_type": "text"
      },
      "source": [
        "<a href=\"https://colab.research.google.com/github/vinoth2003/python/blob/main/Untitled22.ipynb\" target=\"_parent\"><img src=\"https://colab.research.google.com/assets/colab-badge.svg\" alt=\"Open In Colab\"/></a>"
      ]
    },
    {
      "cell_type": "code",
      "metadata": {
        "colab": {
          "base_uri": "https://localhost:8080/"
        },
        "id": "74UHammwIHaP",
        "outputId": "ebb52ad5-aa6f-4832-e3da-fbe3657d7ef6"
      },
      "source": [
        "import random\n",
        "target_num, guess_num = random.randint(1, 10), 0\n",
        "while target_num != guess_num:\n",
        "    guess_num = int(input('Guess a number between 1 and 10 until you get it right : '))\n",
        "print('Well guessed')"
      ],
      "execution_count": 4,
      "outputs": [
        {
          "output_type": "stream",
          "text": [
            "Guess a number between 1 and 10 until you get it right : 9\n",
            "Guess a number between 1 and 10 until you get it right : 3\n",
            "Guess a number between 1 and 10 until you get it right : 5\n",
            "Guess a number between 1 and 10 until you get it right : 6\n",
            "Guess a number between 1 and 10 until you get it right : 2\n",
            "Guess a number between 1 and 10 until you get it right : 1\n",
            "Guess a number between 1 and 10 until you get it right : 8\n",
            "Guess a number between 1 and 10 until you get it right : 4\n",
            "Well guessed\n"
          ],
          "name": "stdout"
        }
      ]
    }
  ]
}