{
  "nbformat": 4,
  "nbformat_minor": 0,
  "metadata": {
    "colab": {
      "name": "Untitled18.ipynb",
      "provenance": [],
      "authorship_tag": "ABX9TyPcQgKQQcDv8SmxNphsCAgA",
      "include_colab_link": true
    },
    "kernelspec": {
      "name": "python3",
      "display_name": "Python 3"
    },
    "language_info": {
      "name": "python"
    }
  },
  "cells": [
    {
      "cell_type": "markdown",
      "metadata": {
        "id": "view-in-github",
        "colab_type": "text"
      },
      "source": [
        "<a href=\"https://colab.research.google.com/github/vinoth2003/python/blob/main/Untitled18.ipynb\" target=\"_parent\"><img src=\"https://colab.research.google.com/assets/colab-badge.svg\" alt=\"Open In Colab\"/></a>"
      ]
    },
    {
      "cell_type": "code",
      "metadata": {
        "colab": {
          "base_uri": "https://localhost:8080/"
        },
        "id": "c3udP69p8dig",
        "outputId": "a3e6f05b-6209-40fe-dbcb-03aead0c9cd9"
      },
      "source": [
        "L = [{\"V\":\"S001\"}, {\"V\":\"S002\"}, {\"VI\":\"S001\"}, {\"VI\":\"S005\"}, {\"VII\":\"S005\"}, {\"V\":\"S009\"}, {\"VIII\":\"S007\"}]\n",
        "print(\"Original List: \",L)\n",
        "u_value = set( val for dic in L for val in dic.values())\n",
        "print(\"Unique Values: \",u_value)"
      ],
      "execution_count": 3,
      "outputs": [
        {
          "output_type": "stream",
          "text": [
            "Original List:  [{'V': 'S001'}, {'V': 'S002'}, {'VI': 'S001'}, {'VI': 'S005'}, {'VII': 'S005'}, {'V': 'S009'}, {'VIII': 'S007'}]\n",
            "Unique Values:  {'S005', 'S009', 'S001', 'S002', 'S007'}\n"
          ],
          "name": "stdout"
        }
      ]
    }
  ]
}