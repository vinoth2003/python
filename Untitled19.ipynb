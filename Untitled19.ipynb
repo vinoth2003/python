{
  "nbformat": 4,
  "nbformat_minor": 0,
  "metadata": {
    "colab": {
      "name": "Untitled19.ipynb",
      "provenance": [],
      "authorship_tag": "ABX9TyN3gX8NTw8uCmqBJZkIj2Kf",
      "include_colab_link": true
    },
    "kernelspec": {
      "name": "python3",
      "display_name": "Python 3"
    },
    "language_info": {
      "name": "python"
    }
  },
  "cells": [
    {
      "cell_type": "markdown",
      "metadata": {
        "id": "view-in-github",
        "colab_type": "text"
      },
      "source": [
        "<a href=\"https://colab.research.google.com/github/vinoth2003/python/blob/main/Untitled19.ipynb\" target=\"_parent\"><img src=\"https://colab.research.google.com/assets/colab-badge.svg\" alt=\"Open In Colab\"/></a>"
      ]
    },
    {
      "cell_type": "code",
      "metadata": {
        "colab": {
          "base_uri": "https://localhost:8080/"
        },
        "id": "ubokOLi0_Neg",
        "outputId": "65f479d7-fdb0-4411-d531-9eb46eb47f25"
      },
      "source": [
        "import re\n",
        "p= input(\"Input your password\")\n",
        "x = True\n",
        "while x:\n",
        "    if (len(p)<6 or len(p)>12):\n",
        "         break\n",
        "    elif not re.search(\"[a-z]\",p):\n",
        "         break\n",
        "    elif not re.search(\"[0-9]\",p):\n",
        "         break\n",
        "    elif not re.search(\"[A-Z]\",p):\n",
        "         break\n",
        "    elif not re.search(\"[$#@]\",p):\n",
        "         break\n",
        "    elif nre.search(\"/s\",p):\n",
        "         break\n",
        "    else:\n",
        "         print(\"valid password\")\n",
        "         x=False\n",
        "         break\n",
        "\n",
        "if x:\n",
        "  print(\"Not a valid password\")       \n"
      ],
      "execution_count": 3,
      "outputs": [
        {
          "output_type": "stream",
          "text": [
            "Input your passwordviki@123\n",
            "Not a valid password\n"
          ],
          "name": "stdout"
        }
      ]
    }
  ]
}