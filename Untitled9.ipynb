{
  "nbformat": 4,
  "nbformat_minor": 0,
  "metadata": {
    "colab": {
      "name": "Untitled9.ipynb",
      "provenance": [],
      "authorship_tag": "ABX9TyNlBwrgLYsaygCI+4fK2+rG",
      "include_colab_link": true
    },
    "kernelspec": {
      "name": "python3",
      "display_name": "Python 3"
    },
    "language_info": {
      "name": "python"
    }
  },
  "cells": [
    {
      "cell_type": "markdown",
      "metadata": {
        "id": "view-in-github",
        "colab_type": "text"
      },
      "source": [
        "<a href=\"https://colab.research.google.com/github/vinoth2003/python/blob/main/Untitled9.ipynb\" target=\"_parent\"><img src=\"https://colab.research.google.com/assets/colab-badge.svg\" alt=\"Open In Colab\"/></a>"
      ]
    },
    {
      "cell_type": "code",
      "metadata": {
        "colab": {
          "base_uri": "https://localhost:8080/"
        },
        "id": "T_wXINEB0fRR",
        "outputId": "435b568d-ff13-4b5b-fd3e-fd6a16ca3595"
      },
      "source": [
        "principle=float(input(\"Enter the principle amount:\"))\n",
        "time=int(input(\"Enter the time(years):\"))\n",
        "rate=float(input(\"Enter the rate:\"))\n",
        "simple_interest=(principle*time*rate)/100\n",
        "print(\"The simple interest is:\",simple_interest)"
      ],
      "execution_count": 1,
      "outputs": [
        {
          "output_type": "stream",
          "text": [
            "Enter the principle amount:234\n",
            "Enter the time(years):123\n",
            "Enter the rate:555\n",
            "The simple interest is: 159740.1\n"
          ],
          "name": "stdout"
        }
      ]
    }
  ]
}