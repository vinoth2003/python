{
  "nbformat": 4,
  "nbformat_minor": 0,
  "metadata": {
    "colab": {
      "name": "Untitled13.ipynb",
      "provenance": [],
      "authorship_tag": "ABX9TyO6sqBDiSunmqAD0zrCW1/w",
      "include_colab_link": true
    },
    "kernelspec": {
      "name": "python3",
      "display_name": "Python 3"
    },
    "language_info": {
      "name": "python"
    }
  },
  "cells": [
    {
      "cell_type": "markdown",
      "metadata": {
        "id": "view-in-github",
        "colab_type": "text"
      },
      "source": [
        "<a href=\"https://colab.research.google.com/github/vinoth2003/python/blob/main/Untitled13.ipynb\" target=\"_parent\"><img src=\"https://colab.research.google.com/assets/colab-badge.svg\" alt=\"Open In Colab\"/></a>"
      ]
    },
    {
      "cell_type": "code",
      "metadata": {
        "colab": {
          "base_uri": "https://localhost:8080/"
        },
        "id": "TzPNq7qlm05q",
        "outputId": "8e2f1e15-c68a-4d72-f2f3-fb494ec718bd"
      },
      "source": [
        "def add_string(str1):\n",
        "  length = len(str1)\n",
        "\n",
        "  if length > 2:\n",
        "    if str1[-3:] == 'ing':\n",
        "      str1 += 'ly'\n",
        "    else:\n",
        "        str1 += 'ing'\n",
        "\n",
        "        return str1\n",
        "print(add_string('ab'))\n",
        "print(add_string('abc'))\n",
        "print(add_string('string'))"
      ],
      "execution_count": 1,
      "outputs": [
        {
          "output_type": "stream",
          "text": [
            "None\n",
            "abcing\n",
            "None\n"
          ],
          "name": "stdout"
        }
      ]
    }
  ]
}