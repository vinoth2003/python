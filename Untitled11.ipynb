{
  "nbformat": 4,
  "nbformat_minor": 0,
  "metadata": {
    "colab": {
      "name": "Untitled11.ipynb",
      "provenance": [],
      "authorship_tag": "ABX9TyOkoFLS3IsCiNunOyNzNslk",
      "include_colab_link": true
    },
    "kernelspec": {
      "name": "python3",
      "display_name": "Python 3"
    },
    "language_info": {
      "name": "python"
    }
  },
  "cells": [
    {
      "cell_type": "markdown",
      "metadata": {
        "id": "view-in-github",
        "colab_type": "text"
      },
      "source": [
        "<a href=\"https://colab.research.google.com/github/vinoth2003/python/blob/main/Untitled11.ipynb\" target=\"_parent\"><img src=\"https://colab.research.google.com/assets/colab-badge.svg\" alt=\"Open In Colab\"/></a>"
      ]
    },
    {
      "cell_type": "code",
      "metadata": {
        "colab": {
          "base_uri": "https://localhost:8080/"
        },
        "id": "Ui7vnTV_HIu4",
        "outputId": "46d45424-f827-4110-ddfd-913e1d746025"
      },
      "source": [
        "P = float(input(\"Enter the principal amount : \"))\n",
        " \n",
        "N = float(input(\"Enter the number of years : \"))\n",
        " \n",
        "R = float(input(\"Enter the rate of interest : \"))\n",
        "\n",
        "SI = (P * N * R)/100\n",
        " \n",
        "print(\"Simple interest : {}\".format(SI))"
      ],
      "execution_count": 1,
      "outputs": [
        {
          "output_type": "stream",
          "text": [
            "Enter the principal amount : 230\n",
            "Enter the number of years : 231\n",
            "Enter the rate of interest : 778\n",
            "Simple interest : 413351.4\n"
          ],
          "name": "stdout"
        }
      ]
    }
  ]
}